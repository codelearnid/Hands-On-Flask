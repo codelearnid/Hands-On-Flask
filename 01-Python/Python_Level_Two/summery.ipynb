{
 "cells": [
  {
   "cell_type": "code",
   "execution_count": 9,
   "metadata": {},
   "outputs": [
    {
     "name": "stdout",
     "output_type": "stream",
     "text": [
      "20\n"
     ]
    }
   ],
   "source": [
    "def fungsi_luar():\n",
    "    y = 20  # Variabel dalam enclosing namespace\n",
    "  \n",
    "    def fungsi_dalam():\n",
    "        print(y)  # Mengakses variabel dari enclosing namespace\n",
    "  \n",
    "    fungsi_dalam()\n",
    "\n",
    "fungsi_luar()  # Output: 20"
   ]
  },
  {
   "cell_type": "code",
   "execution_count": 16,
   "metadata": {},
   "outputs": [
    {
     "name": "stdout",
     "output_type": "stream",
     "text": [
      "30\n"
     ]
    }
   ],
   "source": [
    "def fungsi_luar():\n",
    "    y = 20  # Variabel dalam enclosing namespace\n",
    "  \n",
    "    def fungsi_dalam():\n",
    "        y = 30\n",
    "        print(y)  # Mengakses variabel dari enclosing namespace\n",
    "  \n",
    "    fungsi_dalam()\n",
    "\n",
    "fungsi_luar()  # Output: 20"
   ]
  },
  {
   "cell_type": "code",
   "execution_count": 34,
   "metadata": {},
   "outputs": [
    {
     "name": "stdout",
     "output_type": "stream",
     "text": [
      "40\n",
      "40\n"
     ]
    }
   ],
   "source": [
    "def fungsi_luar():\n",
    "    y = 20  # Variabel dalam enclosing namespace\n",
    "  \n",
    "    def fungsi_dalam():\n",
    "        nonlocal y\n",
    "        y = 40\n",
    "        print(y)  # Mengakses variabel dari enclosing namespace\n",
    "  \n",
    "    fungsi_dalam()\n",
    "    print(y)\n",
    "\n",
    "fungsi_luar()  # Output: 20"
   ]
  },
  {
   "cell_type": "code",
   "execution_count": null,
   "metadata": {},
   "outputs": [],
   "source": []
  }
 ],
 "metadata": {
  "kernelspec": {
   "display_name": "myenv",
   "language": "python",
   "name": "python3"
  },
  "language_info": {
   "codemirror_mode": {
    "name": "ipython",
    "version": 3
   },
   "file_extension": ".py",
   "mimetype": "text/x-python",
   "name": "python",
   "nbconvert_exporter": "python",
   "pygments_lexer": "ipython3",
   "version": "3.11.7"
  }
 },
 "nbformat": 4,
 "nbformat_minor": 2
}
